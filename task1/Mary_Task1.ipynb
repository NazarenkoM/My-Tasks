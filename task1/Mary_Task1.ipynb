{
 "cells": [
  {
   "cell_type": "code",
   "execution_count": 12,
   "id": "5a22a866-2e5b-476e-92ff-5d9d93cb2dc3",
   "metadata": {},
   "outputs": [
    {
     "name": "stdout",
     "output_type": "stream",
     "text": [
      "7\n",
      "5\n"
     ]
    }
   ],
   "source": [
    "# Function for counting islands\n",
    "def count_islands(map):\n",
    "    if not map:\n",
    "        return 0\n",
    "    n=len(map)\n",
    "    m=len(map[0])\n",
    "    counter=0\n",
    "    \n",
    "# Function for notes of visited islands\n",
    "    def neighbours(x, y):\n",
    "        map[x][y]='2' # Note cell as visited\n",
    "        if x>0 and map[x-1][y]=='1': # If neightbour cell 1 and exist mark it (recursively)\n",
    "            neighbours(x-1, y)\n",
    "        if x<n-1 and map[x+1][y]=='1': # Similar to right\n",
    "            neighbours(x+1, y)\n",
    "        if y>0 and map[x][y-1]=='1':# Similar to down\n",
    "            neighbours(x, y-1)\n",
    "        if y<m-1 and map[x][y+1]=='1': # Similar to up\n",
    "            neighbours(x, y+1)\n",
    "\n",
    "    for x in range(n):\n",
    "        for y in range(m):\n",
    "            if map[x][y]=='1':\n",
    "                counter+=1\n",
    "                neighbours(x, y)\n",
    "\n",
    "    return counter\n",
    "\n",
    "# Let's check\n",
    "map1 = [\n",
    "  [\"1\",\"1\",\"0\",\"1\",\"0\",\"1\",\"1\"],\n",
    "  [\"1\",\"1\",\"0\",\"0\",\"1\",\"0\",\"0\"],\n",
    "  [\"0\",\"0\",\"1\",\"0\",\"1\",\"1\",\"0\"],\n",
    "  [\"1\",\"1\",\"0\",\"1\",\"1\",\"0\",\"1\"],\n",
    "  [\"1\",\"1\",\"0\",\"1\",\"1\",\"1\",\"0\"]\n",
    "]\n",
    "\n",
    "map2 = [\n",
    "  [\"1\",\"1\",\"1\",\"1\",\"0\",\"1\"],\n",
    "  [\"1\",\"0\",\"0\",\"1\",\"0\",\"0\"],\n",
    "  [\"0\",\"1\",\"1\",\"0\",\"1\",\"1\"],\n",
    "  [\"1\",\"0\",\"1\",\"1\",\"0\",\"1\"]\n",
    "]\n",
    "\n",
    "print(count_islands(map1))  \n",
    "print(count_islands(map2))\n"
   ]
  },
  {
   "cell_type": "code",
   "execution_count": null,
   "id": "72b124ec-23cb-497a-9341-d399b05d3f79",
   "metadata": {},
   "outputs": [],
   "source": []
  }
 ],
 "metadata": {
  "kernelspec": {
   "display_name": "Python 3 (ipykernel)",
   "language": "python",
   "name": "python3"
  },
  "language_info": {
   "codemirror_mode": {
    "name": "ipython",
    "version": 3
   },
   "file_extension": ".py",
   "mimetype": "text/x-python",
   "name": "python",
   "nbconvert_exporter": "python",
   "pygments_lexer": "ipython3",
   "version": "3.8.8"
  }
 },
 "nbformat": 4,
 "nbformat_minor": 5
}
